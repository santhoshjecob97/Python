{
 "cells": [
  {
   "cell_type": "code",
   "execution_count": 5,
   "id": "3ba209f1-2805-4f5c-a086-0d5be5c9cb57",
   "metadata": {},
   "outputs": [],
   "source": [
    "def Subfields():\n",
    "    print(\"Sub-fields in AI are:\")\n",
    "    list=['Machine Learning', 'Neural Networks', 'Vision', 'Robotics', 'Speech Processing', 'Natural Language Processing']\n",
    "    for temp in list:\n",
    "        print (temp)"
   ]
  },
  {
   "cell_type": "code",
   "execution_count": 7,
   "id": "c61f0204-d739-495a-b280-849e54261ca0",
   "metadata": {},
   "outputs": [
    {
     "name": "stdout",
     "output_type": "stream",
     "text": [
      "Sub-fields in AI are:\n",
      "Machine Learning\n",
      "Neural Networks\n",
      "Vision\n",
      "Robotics\n",
      "Speech Processing\n",
      "Natural Language Processing\n"
     ]
    }
   ],
   "source": [
    "Subfields()"
   ]
  },
  {
   "cell_type": "code",
   "execution_count": 19,
   "id": "af4f8637-ab3f-4f08-897c-89f7582570b3",
   "metadata": {},
   "outputs": [],
   "source": [
    "def oddeven():\n",
    "    num=int(input(\"Enter the number:\"))\n",
    "    if(num%2==1):\n",
    "        print(num,\"is odd number\")\n",
    "    else:\n",
    "        print(num,\"is Even Number\")\n",
    "  "
   ]
  },
  {
   "cell_type": "code",
   "execution_count": 21,
   "id": "3b33c1da-f75f-42db-b3a2-e2f3a9c8675d",
   "metadata": {},
   "outputs": [
    {
     "name": "stdin",
     "output_type": "stream",
     "text": [
      "Enter the number: 52452\n"
     ]
    },
    {
     "name": "stdout",
     "output_type": "stream",
     "text": [
      "52452 is Even Number\n"
     ]
    }
   ],
   "source": [
    "oddeven()"
   ]
  },
  {
   "cell_type": "code",
   "execution_count": 30,
   "id": "ec89bb20-f204-44b9-8e96-4b78aa0ac13b",
   "metadata": {},
   "outputs": [],
   "source": [
    "def eligible():\n",
    "    gender = input(\"Your Gender is: \")\n",
    "    age = int(input(\"Your Age is: \"))\n",
    "    \n",
    "    if gender == 'male':\n",
    "        if age >= 21:\n",
    "            print(\"eligible\")\n",
    "        else:\n",
    "            print(\"not eligible\")\n",
    "    elif gender == 'female':\n",
    "        if age >= 18:\n",
    "            print(\"eligible\")\n",
    "        else:\n",
    "            print(\"not eligible\")\n",
    "    else:\n",
    "        print('invalid input data')\n",
    "    "
   ]
  },
  {
   "cell_type": "code",
   "execution_count": 32,
   "id": "4b333e47-2b5f-4c98-9821-3c857d3fc471",
   "metadata": {},
   "outputs": [
    {
     "name": "stdin",
     "output_type": "stream",
     "text": [
      "Your Gender is:  male\n",
      "Your Age is:  20\n"
     ]
    },
    {
     "name": "stdout",
     "output_type": "stream",
     "text": [
      "not eligible\n"
     ]
    }
   ],
   "source": [
    "eligible()"
   ]
  },
  {
   "cell_type": "code",
   "execution_count": 47,
   "id": "9a4268f4-5303-4291-9eaf-c364abd34200",
   "metadata": {},
   "outputs": [
    {
     "name": "stdin",
     "output_type": "stream",
     "text": [
      "Subject1 =  23\n",
      "Subject2 =  45\n",
      "Subject3 =  34\n",
      "Subject4 =  23\n",
      "Subject5 =  23\n"
     ]
    },
    {
     "name": "stdout",
     "output_type": "stream",
     "text": [
      "Total :  148\n",
      "Percentage : 29.599999999999998\n"
     ]
    }
   ],
   "source": [
    "def percentage():\n",
    "        s1 = int(input(\"Subject1 = \"))\n",
    "        s2 = int(input(\"Subject2 = \"))\n",
    "        s3 = int(input(\"Subject3 = \"))\n",
    "        s4 = int(input(\"Subject4 = \"))\n",
    "        s5 = int(input(\"Subject5 = \"))\n",
    "        Total = s1 + s2 + s3 + s4 + s5\n",
    "        print(\"Total : \", Total)\n",
    "        Percent = (Total / 500) * 100\n",
    "        print(\"Percentage :\",Percent)\n",
    "percentage()"
   ]
  },
  {
   "cell_type": "code",
   "execution_count": 41,
   "id": "6d06ae40-49fe-44fd-bb30-c6ec0cd6a3f6",
   "metadata": {},
   "outputs": [],
   "source": [
    " def triangle():\n",
    "     Height=int(input(\"Height:\"))\n",
    "     breath=int(input(\"Breath:\"))\n",
    "     print(\"Area formula: (Height*Breath)/2\")\n",
    "     print(\"Area of Triangle: \",(Height*breath)/2)\n",
    "     Height1=int(input(\"Height1:\"))\n",
    "     Height2=int(input(\"Height2:\"))\n",
    "     breath=int(input(\"Breath:\"))\n",
    "     print(\"Perimeter formula: Height1+Height2+Breath\")\n",
    "     print(\"Perimeter of Triangle: \",Height1+Height2+breath)"
   ]
  },
  {
   "cell_type": "code",
   "execution_count": 43,
   "id": "28a25354-c51c-4dba-8938-18929e16ef51",
   "metadata": {},
   "outputs": [
    {
     "name": "stdin",
     "output_type": "stream",
     "text": [
      "Height: 55\n",
      "Breath: 25\n"
     ]
    },
    {
     "name": "stdout",
     "output_type": "stream",
     "text": [
      "Area formula: (Height*Breath)/2\n",
      "Area of Triangle:  687.5\n"
     ]
    },
    {
     "name": "stdin",
     "output_type": "stream",
     "text": [
      "Height1: 51\n",
      "Height2: 52\n",
      "Breath: 53\n"
     ]
    },
    {
     "name": "stdout",
     "output_type": "stream",
     "text": [
      "Perimeter formula: Height1+Height2+Breath\n",
      "Perimeter of Triangle:  156\n"
     ]
    }
   ],
   "source": [
    "triangle()"
   ]
  },
  {
   "cell_type": "code",
   "execution_count": null,
   "id": "86a5245d-bcc5-4fc9-909f-867b518d6d81",
   "metadata": {},
   "outputs": [],
   "source": []
  }
 ],
 "metadata": {
  "kernelspec": {
   "display_name": "Python [conda env:base] *",
   "language": "python",
   "name": "conda-base-py"
  },
  "language_info": {
   "codemirror_mode": {
    "name": "ipython",
    "version": 3
   },
   "file_extension": ".py",
   "mimetype": "text/x-python",
   "name": "python",
   "nbconvert_exporter": "python",
   "pygments_lexer": "ipython3",
   "version": "3.12.7"
  }
 },
 "nbformat": 4,
 "nbformat_minor": 5
}
