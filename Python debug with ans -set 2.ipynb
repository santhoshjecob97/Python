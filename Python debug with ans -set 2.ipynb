{
 "cells": [
  {
   "cell_type": "code",
   "execution_count": null,
   "id": "d6b7b6f4",
   "metadata": {},
   "outputs": [],
   "source": [
    "#1.Find the error in the following Python code:\n",
    "import math\n",
    "print(Math.sqrt(16))\n"
   ]
  },
  {
   "cell_type": "code",
   "execution_count": null,
   "id": "42a79cf6",
   "metadata": {},
   "outputs": [],
   "source": [
    "#ans:Issue: Math should be lowercase as math.\n",
    "Fixed Code:\n",
    "    \n",
    "import math\n",
    "print(math.sqrt(16))"
   ]
  },
  {
   "cell_type": "code",
   "execution_count": null,
   "id": "bb110ac4",
   "metadata": {},
   "outputs": [],
   "source": [
    "#2.Find the error in the following Python code:\n",
    "def my_function():\n",
    "    x += 5\n",
    "    print(x)\n",
    "\n",
    "x = 10\n",
    "my_function()\n"
   ]
  },
  {
   "cell_type": "code",
   "execution_count": null,
   "id": "600974b1",
   "metadata": {},
   "outputs": [],
   "source": [
    "#ans:Issue: x is modified inside the function without being declared as global.\n",
    "Fixed Code:\n",
    "\n",
    "\n",
    "def my_function():\n",
    "    global x\n",
    "    x += 5\n",
    "    print(x)\n",
    "\n",
    "x = 10\n",
    "my_function()\n"
   ]
  },
  {
   "cell_type": "code",
   "execution_count": null,
   "id": "9555dad2",
   "metadata": {},
   "outputs": [],
   "source": [
    "#3.x = 5\n",
    "if x = 10:\n",
    "    print(\"x is 10\")\n"
   ]
  },
  {
   "cell_type": "code",
   "execution_count": null,
   "id": "44a83c40",
   "metadata": {},
   "outputs": [],
   "source": [
    "#ans:Issue: = is an assignment operator; == is needed for comparison.\n",
    "Fixed Code:\n",
    "\n",
    "x = 5\n",
    "if x == 10:\n",
    "    print(\"x is 10\")"
   ]
  },
  {
   "cell_type": "code",
   "execution_count": null,
   "id": "dc3096ff",
   "metadata": {},
   "outputs": [],
   "source": [
    "#4.\n",
    "numbers = [5, 3, 8, 2]\n",
    "print(numbers.sort())\n"
   ]
  },
  {
   "cell_type": "code",
   "execution_count": null,
   "id": "2ed0ede2",
   "metadata": {},
   "outputs": [],
   "source": [
    "#ans:Issue: .sort() modifies the list in place and returns None.\n",
    "Fixed Code:\n",
    "\n",
    "\n",
    "numbers = [5, 3, 8, 2]\n",
    "numbers.sort()\n",
    "print(numbers)\n",
    "\n"
   ]
  },
  {
   "cell_type": "code",
   "execution_count": null,
   "id": "f7bcdd3d",
   "metadata": {},
   "outputs": [],
   "source": [
    "#5.\n",
    "def square(n):\n",
    "    n * n\n",
    "\n",
    "print(square(4))\n"
   ]
  },
  {
   "cell_type": "code",
   "execution_count": null,
   "id": "2b39e051",
   "metadata": {},
   "outputs": [],
   "source": [
    "#ans:Issue: The function does not return a value explicitly.\n",
    "Fixed Code:\n",
    "\n",
    "def square(n):\n",
    "    return n * n\n",
    "\n",
    "print(square(4))\n"
   ]
  },
  {
   "cell_type": "code",
   "execution_count": null,
   "id": "0eb6471f",
   "metadata": {},
   "outputs": [],
   "source": [
    "#6.\n",
    "my_tuple = (1, 2, 3)\n",
    "my_tuple[1] = 5\n"
   ]
  },
  {
   "cell_type": "code",
   "execution_count": null,
   "id": "5579a278",
   "metadata": {},
   "outputs": [],
   "source": [
    "#ans:Issue: Tuples are immutable and cannot be modified.\n",
    "Fixed Code:\n",
    "\n",
    "my_tuple = (1, 5, 3)  # Create a new tuple"
   ]
  },
  {
   "cell_type": "code",
   "execution_count": null,
   "id": "0922b838",
   "metadata": {},
   "outputs": [],
   "source": [
    "#7.\n",
    "name = \"Alice\"\n",
    "age = 25\n",
    "print(\"My name is %s and I am %d years old\" % (name))\n"
   ]
  },
  {
   "cell_type": "code",
   "execution_count": null,
   "id": "72898e72",
   "metadata": {},
   "outputs": [],
   "source": [
    "#ans:Issue: The format placeholders are missing a required argument.\n",
    "Fixed Code:\n",
    "\n",
    "print(\"My name is %s and I am %d years old\" % (name, age))"
   ]
  },
  {
   "cell_type": "code",
   "execution_count": null,
   "id": "9f83bddf",
   "metadata": {},
   "outputs": [],
   "source": [
    "#8.\n",
    "a = [1, 2, 3]\n",
    "b = [1, 2, 3]\n",
    "if a is b:\n",
    "    print(\"Lists are equal\")\n"
   ]
  },
  {
   "cell_type": "code",
   "execution_count": null,
   "id": "c9afe45e",
   "metadata": {},
   "outputs": [],
   "source": [
    "#ans:Issue: is checks for object identity, not value equality.\n",
    "Fixed Code:\n",
    "\n",
    "\n",
    "if a == b:\n",
    "    print(\"Lists are equal\")"
   ]
  },
  {
   "cell_type": "code",
   "execution_count": null,
   "id": "5ce21be8",
   "metadata": {},
   "outputs": [],
   "source": [
    "#9.\n",
    "for i in range(5, 1):\n",
    "    print(i)\n"
   ]
  },
  {
   "cell_type": "code",
   "execution_count": null,
   "id": "6097d899",
   "metadata": {},
   "outputs": [],
   "source": [
    "#ans:Issue: The range(5, 1) does not produce any numbers because the default step is +1.\n",
    "Fixed Code:\n",
    "\n",
    "\n",
    "for i in range(5, 1, -1):  # Step should be negative to decrement\n",
    "    print(i)"
   ]
  },
  {
   "cell_type": "code",
   "execution_count": null,
   "id": "83d119d7",
   "metadata": {},
   "outputs": [],
   "source": [
    "#10.\n",
    "student = {\"name\": \"John\", \"age\": 20}\n",
    "print(student[name])\n"
   ]
  },
  {
   "cell_type": "code",
   "execution_count": null,
   "id": "f0f3f852",
   "metadata": {},
   "outputs": [],
   "source": [
    "#ans:Issue: The key should be a string, but name is not defined as a variable.\n",
    "Fixed Code:\n",
    "\n",
    "print(student[\"name\"])"
   ]
  }
 ],
 "metadata": {
  "kernelspec": {
   "display_name": "Python 3 (ipykernel)",
   "language": "python",
   "name": "python3"
  },
  "language_info": {
   "codemirror_mode": {
    "name": "ipython",
    "version": 3
   },
   "file_extension": ".py",
   "mimetype": "text/x-python",
   "name": "python",
   "nbconvert_exporter": "python",
   "pygments_lexer": "ipython3",
   "version": "3.7.6"
  }
 },
 "nbformat": 4,
 "nbformat_minor": 5
}
