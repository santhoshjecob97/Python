{
 "cells": [
  {
   "cell_type": "code",
   "execution_count": 1,
   "id": "b0c865e4-2f83-409a-82a4-ea1fad82d262",
   "metadata": {},
   "outputs": [
    {
     "name": "stdout",
     "output_type": "stream",
     "text": [
      "HOPE AI\n"
     ]
    }
   ],
   "source": [
    "#print\n",
    "print(\"HOPE AI\")"
   ]
  },
  {
   "cell_type": "code",
   "execution_count": 9,
   "id": "03e08750-4f94-4257-81f3-fa3153f47b16",
   "metadata": {},
   "outputs": [
    {
     "name": "stdin",
     "output_type": "stream",
     "text": [
      "Enter Your Institute Name?: HOPE AI\n"
     ]
    }
   ],
   "source": [
    "#buy input\n",
    "Name=input(\"Enter Your Institute Name?:\")\n"
   ]
  },
  {
   "cell_type": "code",
   "execution_count": 13,
   "id": "bde3c037-7f56-47bb-aae1-1569ccdb7391",
   "metadata": {},
   "outputs": [
    {
     "name": "stdin",
     "output_type": "stream",
     "text": [
      "Enter Your Name: Raj\n",
      "Enter Your Age: 15\n",
      "Enter Your School Name: Guru School\n",
      "Enter Your Degree: BE CSE\n"
     ]
    }
   ],
   "source": [
    "#buy inputs\n",
    "Name=input(\"Enter Your Name:\")\n",
    "Age=input(\"Enter Your Age:\")\n",
    "School=input(\"Enter Your School Name:\")\n",
    "Degree=input(\"Enter Your Degree:\")"
   ]
  },
  {
   "cell_type": "code",
   "execution_count": 19,
   "id": "a5edb770-b561-418f-8a69-9f4755e899d1",
   "metadata": {},
   "outputs": [
    {
     "name": "stdin",
     "output_type": "stream",
     "text": [
      "a= 43\n",
      "b= 34\n"
     ]
    },
    {
     "name": "stdout",
     "output_type": "stream",
     "text": [
      "add= 77\n"
     ]
    }
   ],
   "source": [
    "#addition\n",
    "a=43\n",
    "b=34\n",
    "add=a+b\n",
    "a=input(\"a=\")\n",
    "b=input(\"b=\")\n",
    "print(\"add=\",add)"
   ]
  },
  {
   "cell_type": "code",
   "execution_count": 21,
   "id": "b2b9aff8-d432-4aa9-a3f9-26c46d3797fd",
   "metadata": {},
   "outputs": [
    {
     "name": "stdin",
     "output_type": "stream",
     "text": [
      "a= 43\n",
      "b= 34\n"
     ]
    },
    {
     "name": "stdout",
     "output_type": "stream",
     "text": [
      "sub= 9\n"
     ]
    }
   ],
   "source": [
    "#sub\n",
    "a=43\n",
    "b=34\n",
    "sub=a-b\n",
    "a=input(\"a=\")\n",
    "b=input(\"b=\")\n",
    "print(\"sub=\",sub)"
   ]
  },
  {
   "cell_type": "code",
   "execution_count": 23,
   "id": "9f14474b-bc77-4e5c-8bbd-19237245310f",
   "metadata": {},
   "outputs": [
    {
     "name": "stdin",
     "output_type": "stream",
     "text": [
      "a= 63\n",
      "b= 97\n"
     ]
    },
    {
     "name": "stdout",
     "output_type": "stream",
     "text": [
      "mul= 6111\n"
     ]
    }
   ],
   "source": [
    "#mul\n",
    "a=63\n",
    "b=97\n",
    "mul=a*b\n",
    "a=input(\"a=\")\n",
    "b=input(\"b=\")\n",
    "print(\"mul=\",mul)"
   ]
  },
  {
   "cell_type": "code",
   "execution_count": 45,
   "id": "673fa060-59dc-4d5c-96d0-3f49c776f96a",
   "metadata": {},
   "outputs": [
    {
     "name": "stdin",
     "output_type": "stream",
     "text": [
      "a= 76\n",
      "b= 31\n"
     ]
    },
    {
     "name": "stdout",
     "output_type": "stream",
     "text": [
      "float Div= 2.4516129032258065\n"
     ]
    }
   ],
   "source": [
    "#float div\n",
    "a=76\n",
    "b=31\n",
    "div =a/b\n",
    "a=input(\"a=\")\n",
    "b=input(\"b=\")\n",
    "print(\"float Div=\",div)"
   ]
  },
  {
   "cell_type": "code",
   "execution_count": 41,
   "id": "6168953a-f268-4f1e-920e-470d28253ae8",
   "metadata": {},
   "outputs": [
    {
     "name": "stdin",
     "output_type": "stream",
     "text": [
      "a= 76\n",
      "b= 31\n"
     ]
    },
    {
     "name": "stdout",
     "output_type": "stream",
     "text": [
      "Floor Div= 2\n"
     ]
    }
   ],
   "source": [
    "#floor div\n",
    "a=76\n",
    "b=31\n",
    "div =a//b\n",
    "a=input(\"a=\")\n",
    "b=input(\"b=\")\n",
    "print(\"Floor Div=\", div)"
   ]
  },
  {
   "cell_type": "code",
   "execution_count": 47,
   "id": "510e7682-aabd-4abd-963d-8b81e0f7ca31",
   "metadata": {},
   "outputs": [
    {
     "name": "stdin",
     "output_type": "stream",
     "text": [
      "a= 76\n",
      "b= 31\n"
     ]
    },
    {
     "name": "stdout",
     "output_type": "stream",
     "text": [
      "modulo= 14\n"
     ]
    }
   ],
   "source": [
    "#modulo\n",
    "a=76\n",
    "b=31\n",
    "modulo=a%b\n",
    "a=input(\"a=\")\n",
    "b=input(\"b=\")\n",
    "print(\"modulo=\", modulo)"
   ]
  },
  {
   "cell_type": "code",
   "execution_count": 51,
   "id": "0ff2cfd3-7b63-4382-8c72-b62393815e77",
   "metadata": {},
   "outputs": [
    {
     "name": "stdin",
     "output_type": "stream",
     "text": [
      "a= 4\n",
      "b= 4\n"
     ]
    },
    {
     "name": "stdout",
     "output_type": "stream",
     "text": [
      "power= 256\n"
     ]
    }
   ],
   "source": [
    "#power\n",
    "a=4\n",
    "b=4\n",
    "power=a**b\n",
    "a=input(\"a=\")\n",
    "b=input(\"b=\")\n",
    "print(\"power=\", power)"
   ]
  },
  {
   "cell_type": "code",
   "execution_count": null,
   "id": "a92ca4c3-9ef2-48d4-99ef-91f14e36f784",
   "metadata": {},
   "outputs": [],
   "source": []
  }
 ],
 "metadata": {
  "kernelspec": {
   "display_name": "Python [conda env:base] *",
   "language": "python",
   "name": "conda-base-py"
  },
  "language_info": {
   "codemirror_mode": {
    "name": "ipython",
    "version": 3
   },
   "file_extension": ".py",
   "mimetype": "text/x-python",
   "name": "python",
   "nbconvert_exporter": "python",
   "pygments_lexer": "ipython3",
   "version": "3.12.7"
  }
 },
 "nbformat": 4,
 "nbformat_minor": 5
}
