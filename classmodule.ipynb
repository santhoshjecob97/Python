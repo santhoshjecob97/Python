{
 "cells": [
  {
   "cell_type": "code",
   "execution_count": 5,
   "id": "a9e82ba6-6893-4aaf-8e68-a64d0d3dff9a",
   "metadata": {},
   "outputs": [],
   "source": [
    "from Module import classmultiple\n",
    "#from moduleName import ClassName"
   ]
  },
  {
   "cell_type": "code",
   "execution_count": 7,
   "id": "625d07e6-4e91-4b3a-bbd8-bc86aedff80f",
   "metadata": {},
   "outputs": [
    {
     "name": "stdout",
     "output_type": "stream",
     "text": [
      "Sub-fields in AI are:\n",
      "Machine Learning\n",
      "Neural Networks\n",
      "Vision\n",
      "Robotics\n",
      "Speech Processing\n",
      "Natural Language Processing\n"
     ]
    }
   ],
   "source": [
    "classmultiple.Subfields()\n",
    "#ClassName.FunctionName()"
   ]
  },
  {
   "cell_type": "code",
   "execution_count": 9,
   "id": "360e2f3b-0c12-49a0-b2b7-4ddbab65e898",
   "metadata": {},
   "outputs": [
    {
     "name": "stdin",
     "output_type": "stream",
     "text": [
      "Enter the number: 10\n"
     ]
    },
    {
     "name": "stdout",
     "output_type": "stream",
     "text": [
      "10 is Even Number\n"
     ]
    }
   ],
   "source": [
    "classmultiple.oddeven()"
   ]
  },
  {
   "cell_type": "code",
   "execution_count": 7,
   "id": "0b128873-0208-4600-b09e-2e5df1147559",
   "metadata": {},
   "outputs": [],
   "source": [
    "from Module import classmultiple"
   ]
  },
  {
   "cell_type": "code",
   "execution_count": 11,
   "id": "7d09e742-8ceb-4181-b2c1-5af33d5d5256",
   "metadata": {},
   "outputs": [
    {
     "name": "stdin",
     "output_type": "stream",
     "text": [
      "Your Gender is:  male\n",
      "Your Age is:  20\n"
     ]
    },
    {
     "name": "stdout",
     "output_type": "stream",
     "text": [
      "not eligible\n"
     ]
    }
   ],
   "source": [
    "classmultiple.eligible()"
   ]
  },
  {
   "cell_type": "code",
   "execution_count": 13,
   "id": "b414f277-cc4f-442d-89c5-a7465f47fd04",
   "metadata": {},
   "outputs": [
    {
     "name": "stdin",
     "output_type": "stream",
     "text": [
      "Subject1 =  95\n",
      "Subject2 =  95\n",
      "Subject3 =  95\n",
      "Subject4 =  96\n",
      "Subject5 =  98\n"
     ]
    },
    {
     "name": "stdout",
     "output_type": "stream",
     "text": [
      "Total :  479\n",
      "Percentage : 95.8\n"
     ]
    }
   ],
   "source": [
    "classmultiple.percentage()"
   ]
  },
  {
   "cell_type": "code",
   "execution_count": 15,
   "id": "49a02cd9-8dca-4f6b-89e9-d44cb4dd8702",
   "metadata": {},
   "outputs": [
    {
     "name": "stdin",
     "output_type": "stream",
     "text": [
      "Height: 22\n",
      "Breath: 23\n"
     ]
    },
    {
     "name": "stdout",
     "output_type": "stream",
     "text": [
      "Area formula: (Height*Breath)/2\n",
      "Area of Triangle:  253.0\n"
     ]
    },
    {
     "name": "stdin",
     "output_type": "stream",
     "text": [
      "Height1: 25\n",
      "Height2: 5\n",
      "Breath: 5\n"
     ]
    },
    {
     "name": "stdout",
     "output_type": "stream",
     "text": [
      "Perimeter formula: Height1+Height2+Breath\n",
      "Perimeter of Triangle:  35\n"
     ]
    }
   ],
   "source": [
    "classmultiple.triangle()"
   ]
  },
  {
   "cell_type": "code",
   "execution_count": null,
   "id": "9290bd9c-2d71-49ef-80ca-7144937108db",
   "metadata": {},
   "outputs": [],
   "source": []
  }
 ],
 "metadata": {
  "kernelspec": {
   "display_name": "Python [conda env:base] *",
   "language": "python",
   "name": "conda-base-py"
  },
  "language_info": {
   "codemirror_mode": {
    "name": "ipython",
    "version": 3
   },
   "file_extension": ".py",
   "mimetype": "text/x-python",
   "name": "python",
   "nbconvert_exporter": "python",
   "pygments_lexer": "ipython3",
   "version": "3.12.7"
  }
 },
 "nbformat": 4,
 "nbformat_minor": 5
}
