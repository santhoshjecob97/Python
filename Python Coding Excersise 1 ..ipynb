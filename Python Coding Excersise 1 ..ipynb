{
 "cells": [
  {
   "cell_type": "code",
   "execution_count": 17,
   "id": "5fd5c475",
   "metadata": {},
   "outputs": [
    {
     "name": "stdout",
     "output_type": "stream",
     "text": [
      "12345"
     ]
    }
   ],
   "source": [
    "#1.a.Write a Python program that prints numbers from 1 to 5.\n",
    "#Expected Output:\n",
    "#1 2 3 4 5\n",
    "num = 1\n",
    "while (num<=5):\n",
    "    print(num, end='')\n",
    "    num+=1"
   ]
  },
  {
   "cell_type": "code",
   "execution_count": 19,
   "id": "e01bb2d1-ee82-40d1-bfb1-9a2aca75c393",
   "metadata": {},
   "outputs": [
    {
     "name": "stdout",
     "output_type": "stream",
     "text": [
      "12345"
     ]
    }
   ],
   "source": [
    "#1.b.Write a Python program that prints numbers from 1 to 5.\n",
    "#Expected Output:\n",
    "#1 2 3 4 5\n",
    "for num in range (1, 6):\n",
    "    print (num, end='')"
   ]
  },
  {
   "cell_type": "code",
   "execution_count": 41,
   "id": "3c8bc472",
   "metadata": {},
   "outputs": [
    {
     "name": "stdout",
     "output_type": "stream",
     "text": [
      "246810"
     ]
    }
   ],
   "source": [
    "#2.Write a Python program to print the first 5 even numbers. Expected Output:\n",
    "#2 4 6 8 10\n",
    "for num in range(1, 11):\n",
    "    if num%2==0:\n",
    "        print(num, end='')"
   ]
  },
  {
   "cell_type": "code",
   "execution_count": 45,
   "id": "5e7af211",
   "metadata": {},
   "outputs": [
    {
     "name": "stdout",
     "output_type": "stream",
     "text": [
      "55\n"
     ]
    }
   ],
   "source": [
    "#3.Write a Python program to print the sum of numbers from 1 to 10. \n",
    "#Expected Output:55\n",
    "total = 0\n",
    "for num in range(1, 11):\n",
    "    total+=num\n",
    "print(total)"
   ]
  },
  {
   "cell_type": "code",
   "execution_count": 47,
   "id": "96d55f30-ffe5-46ef-84b7-99de11a1179e",
   "metadata": {},
   "outputs": [
    {
     "name": "stdout",
     "output_type": "stream",
     "text": [
      "55\n"
     ]
    }
   ],
   "source": [
    "total = sum(range(1, 11))\n",
    "print(total)"
   ]
  },
  {
   "cell_type": "code",
   "execution_count": 73,
   "id": "ac09aa1a",
   "metadata": {},
   "outputs": [
    {
     "name": "stdout",
     "output_type": "stream",
     "text": [
      "120\n"
     ]
    }
   ],
   "source": [
    "#4.Write a Python function to find the factorial of 5. Expected Output:120\n",
    "def factorial():\n",
    "    result = 1\n",
    "    for num in range (1, 6):\n",
    "        result *= num\n",
    "    return result\n",
    "print(factorial())"
   ]
  },
  {
   "cell_type": "code",
   "execution_count": 83,
   "id": "8ab9fc8a",
   "metadata": {},
   "outputs": [
    {
     "name": "stdout",
     "output_type": "stream",
     "text": [
      "The number7 is a prime number\n"
     ]
    }
   ],
   "source": [
    "#5.Write a Python program to check if a number is prime. Expected Output (for input 7):\n",
    "#7 is a prime number\n",
    "def is_prime(n):\n",
    "    if n <= 1:\n",
    "        return False\n",
    "    for i in range(2, int(n**0.5)+1):\n",
    "        if n % i == 0:\n",
    "            return False \n",
    "    return True\n",
    "num = 7\n",
    "if is_prime(num):\n",
    "    print(f\"The number{num} is a prime number\")\n",
    "else:\n",
    "    print(f\"The number{num} is a prime number\")"
   ]
  }
 ],
 "metadata": {
  "kernelspec": {
   "display_name": "Python [conda env:base] *",
   "language": "python",
   "name": "conda-base-py"
  },
  "language_info": {
   "codemirror_mode": {
    "name": "ipython",
    "version": 3
   },
   "file_extension": ".py",
   "mimetype": "text/x-python",
   "name": "python",
   "nbconvert_exporter": "python",
   "pygments_lexer": "ipython3",
   "version": "3.12.7"
  }
 },
 "nbformat": 4,
 "nbformat_minor": 5
}
