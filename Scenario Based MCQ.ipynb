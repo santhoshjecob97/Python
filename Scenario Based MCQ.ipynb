{
 "cells": [
  {
   "cell_type": "code",
   "execution_count": 1,
   "id": "0acf41e8-0fa9-42fc-88d9-e18aadc31d8e",
   "metadata": {},
   "outputs": [
    {
     "name": "stdin",
     "output_type": "stream",
     "text": [
      "Enter your age:  25\n"
     ]
    },
    {
     "name": "stdout",
     "output_type": "stream",
     "text": [
      "You are eligible to vote.\n"
     ]
    }
   ],
   "source": [
    "# A system checks if a user is eligible to vote based on their age.\n",
    "#Write logic to ask the user for their age and determine if they are eligible to vote based on whether they are 18 or older.\n",
    "#Logic:\n",
    "#1.Give the input for age and use int () convert the input in integer.\n",
    "#2.Use the if condition if age is 18 and above print the you are eligible for vote\n",
    "#3.Otherwise use the else command to print the you are not eligible for vote \n",
    "# Ask the user for their age\n",
    "age = int(input(\"Enter your age: \"))\n",
    "\n",
    "# Check eligibility to vote\n",
    "if age >= 18:\n",
    "    print(\"You are eligible to vote.\")\n",
    "else:\n",
    "    print(\"You are not eligible to vote.\")\n"
   ]
  },
  {
   "cell_type": "code",
   "execution_count": 3,
   "id": "f933eb32-2cd1-40e8-8636-5dd5f490c320",
   "metadata": {},
   "outputs": [
    {
     "name": "stdout",
     "output_type": "stream",
     "text": [
      "The largest number is: 99\n"
     ]
    }
   ],
   "source": [
    "#2.Scenario: A program processes a list of numbers and needs to find the largest value.\n",
    "#Write logic and code  to identify and return the largest number from a given list.\n",
    "#1.Write the list of numbers\n",
    "#2.Find the largerst value in the list using largest=max(numbers)\n",
    "#3.print the value.\n",
    "# Sample list of numbers\n",
    "numbers = [45, 78, 23, 89, 12, 67, 99, 34]\n",
    "# Find the largest number\n",
    "largest = max(numbers)\n",
    "# Display the result\n",
    "print(\"The largest number is:\", largest)\n"
   ]
  },
  {
   "cell_type": "code",
   "execution_count": 19,
   "id": "512b02a3-8b2e-4bf9-adae-84cfcc6bad52",
   "metadata": {},
   "outputs": [
    {
     "name": "stdout",
     "output_type": "stream",
     "text": [
      "6000.0\n"
     ]
    }
   ],
   "source": [
    "#3.\tScenario: A company provides employees with a 10% bonus if their salary exceeds $50,000.\n",
    "#Write logic to determine the bonus amount based on the given salary.\n",
    "#1.Takes the employee's salary as input\n",
    "#2.Checks if the salary exceeds $50,000\n",
    "#3.If yes, returns 10% of the salary as bonus\n",
    "#4.If no, returns 0 (no bonus)\n",
    "def calculate_bonus(salary):\n",
    "    if salary > 50000:\n",
    "        return salary * 0.10 # 10% bonus\n",
    "    else:\n",
    "        return 0  # No bonus\n",
    "print(calculate_bonus(60000))"
   ]
  },
  {
   "cell_type": "code",
   "execution_count": 13,
   "id": "acf422d1-3380-46a8-a204-31d506c3578b",
   "metadata": {},
   "outputs": [
    {
     "name": "stdin",
     "output_type": "stream",
     "text": [
      "Enter the number: 5\n"
     ]
    },
    {
     "name": "stdout",
     "output_type": "stream",
     "text": [
      "Odd Number\n"
     ]
    }
   ],
   "source": [
    "#4.\tScenario: A program evaluates a number to determine if it is even or odd.\n",
    "#Write logic to check whether a given number is even or odd.\n",
    "#1.Give the number input\n",
    "#2.Use the if condition if even divisible by 2.print even number\n",
    "#3.Otherwise print Odd Number\n",
    "num=int(input(\"Enter the number:\"))\n",
    "if(num%2==0):\n",
    "    print(\"Even Number\")\n",
    "else:\n",
    "    print(\"Odd Number\")"
   ]
  },
  {
   "cell_type": "code",
   "execution_count": 17,
   "id": "47452728-685a-4e73-954a-14ae90a8387e",
   "metadata": {},
   "outputs": [
    {
     "name": "stdout",
     "output_type": "stream",
     "text": [
      "olleh\n"
     ]
    }
   ],
   "source": [
    "# 5. Scenario : A text-processing tool reverses a given word or sentence for formatting purposes.\n",
    "#Write logic to take a word or sentence as input and produce its reversed version.\n",
    "#1.text[::-1] is a Python string slicing trick that reverses the string.\n",
    "#2.[::-1] means start at the end of the string and move backward with a step of -1.\n",
    "def reverse_text(text):\n",
    "    return text[::-1]  # Using string slicing to reverse\n",
    "print(reverse_text(\"hello\"))       "
   ]
  },
  {
   "cell_type": "code",
   "execution_count": 21,
   "id": "ac64d983-efc2-47b6-85a6-a5393665e5fa",
   "metadata": {},
   "outputs": [
    {
     "name": "stdout",
     "output_type": "stream",
     "text": [
      "Pass\n",
      "Fail\n",
      "Pass\n"
     ]
    }
   ],
   "source": [
    "#6.\tScenario: A grading system determines whether a student has passed or failed based on their score.\n",
    "#Write logic to check if a student has passed a subject by scoring at least 40 marks.\n",
    "#1.Use If condition the student’s score is 40 or higher, they Pass.\n",
    "#2.If no use else condition the score is below 40, they Fail.\n",
    "def check_pass_fail(score):\n",
    "    if score >= 40:\n",
    "        return \"Pass\"\n",
    "    else:\n",
    "        return \"Fail\"\n",
    "print(check_pass_fail(75))  # Output: \"Pass\"\n",
    "print(check_pass_fail(30))  # Output: \"Fail\"\n",
    "print(check_pass_fail(40))  # Output: \"Pass\" (since 40 is passing)"
   ]
  },
  {
   "cell_type": "code",
   "execution_count": 27,
   "id": "e3b66281-c56f-4ec3-ae74-ee04bb0600db",
   "metadata": {},
   "outputs": [
    {
     "name": "stdout",
     "output_type": "stream",
     "text": [
      "96.0\n",
      "80\n"
     ]
    }
   ],
   "source": [
    "#7.\tScenario: A retail store offers a 20% discount if a customer’s total order exceeds $100. \n",
    "#Write logic to calculate the final amount to be paid after applying the discount.pls give python code and explaination\n",
    "#Give the input: The function takes order_total (the customer's total bill before discount).\n",
    "#Check for Discount Eligibility:\n",
    "#If order_total > 100, a 20% discount is applied.\n",
    "#The discount is calculated as order_total * 0.20.\n",
    "#The final amount is order_total - discount.\n",
    "#If else the order is $100 or less, the customer pays the full amount (order_total).\n",
    "def calculate_final_amount(order_total):\n",
    "    if order_total > 100:\n",
    "        discount = order_total * 0.20  # 20% discount\n",
    "        final_amount = order_total - discount\n",
    "    else:\n",
    "        final_amount = order_total  # No discount\n",
    "    return final_amount\n",
    "# Example usage:\n",
    "print(calculate_final_amount(120))  # Output: 96.0 (20% off 120)\n",
    "print(calculate_final_amount(80))   # Output: 80 (no discount)"
   ]
  },
  {
   "cell_type": "code",
   "execution_count": 35,
   "id": "abba3bd7-df66-4d7d-954b-3cf44c86ba06",
   "metadata": {},
   "outputs": [
    {
     "name": "stdout",
     "output_type": "stream",
     "text": [
      "Balance: $1000.00, Withdrawal: $500.00\n",
      "Result: Withdrawal successful. New balance: 500.00\n",
      "----------------------------------------\n",
      "Balance: $200.00, Withdrawal: $200.01\n",
      "Result: Insufficient funds for withdrawal\n",
      "----------------------------------------\n",
      "Balance: $1500.00, Withdrawal: $-100.00\n",
      "Result: Withdrawal amount must be positive\n",
      "----------------------------------------\n",
      "Balance: $750.00, Withdrawal: $750.00\n",
      "Result: Withdrawal successful. New balance: 0.00\n",
      "----------------------------------------\n"
     ]
    }
   ],
   "source": [
    "#8.\tScenario: A banking system processes withdrawal requests and ensures the user has enough balance.\n",
    "# Write logic and python code to check if a user has enough balance before allowing a withdrawal and update the remaining balance accordingly.\n",
    "#Input: Current account balance and requested withdrawal amount\n",
    "#Validation:Check if withdrawal amount is positive and Verify sufficient funds\n",
    "#Process:If valid, deduct amount from balance and Return new balance\n",
    "#Output:Success message with new balance (if valid) and Error message (if invalid)\n",
    "def process_withdrawal(current_balance, withdrawal_amount):\n",
    "    \"\"\"\n",
    "    Processes a withdrawal request after validating sufficient balance.\n",
    "    Args:\n",
    "        current_balance (float): The current account balance\n",
    "        withdrawal_amount (float): The amount to withdraw\n",
    "    Returns:\n",
    "        tuple: (success_status, message, new_balance)\n",
    "    \"\"\"\n",
    "    # Validate withdrawal amount is positive\n",
    "    if withdrawal_amount <= 0:\n",
    "        return (False, \"Withdrawal amount must be positive\", current_balance)\n",
    "    # Check sufficient balance\n",
    "    if withdrawal_amount > current_balance:\n",
    "        return (False, \"Insufficient funds for withdrawal\", current_balance)\n",
    "    # Process valid withdrawal\n",
    "    new_balance = current_balance - withdrawal_amount\n",
    "    return (True, f\"Withdrawal successful. New balance: {new_balance:.2f}\", new_balance)\n",
    "    # Example Usage\n",
    "if __name__ == \"__main__\":\n",
    "    # Test cases\n",
    "    test_cases = [\n",
    "        (1000.00, 500.00),   # Valid withdrawal\n",
    "        (200.00, 200.01),    # Insufficient funds\n",
    "        (1500.00, -100.00),  # Invalid negative amount\n",
    "        (750.00, 750.00)     # Exact balance withdrawal\n",
    "    ]\n",
    "    for balance, amount in test_cases:\n",
    "        success, message, new_balance = process_withdrawal(balance, amount)\n",
    "        print(f\"Balance: ${balance:.2f}, Withdrawal: ${amount:.2f}\")\n",
    "        print(f\"Result: {message}\")\n",
    "        print(\"-\" * 40)"
   ]
  },
  {
   "cell_type": "code",
   "execution_count": 39,
   "id": "94fb3174-6c2e-4bdc-999a-e68626d0d806",
   "metadata": {},
   "outputs": [
    {
     "name": "stdout",
     "output_type": "stream",
     "text": [
      "2000: Leap Year\n",
      "1900: Not a Leap Year\n",
      "2020: Leap Year\n",
      "2021: Not a Leap Year\n",
      "1600: Leap Year\n",
      "1700: Not a Leap Year\n",
      "2400: Leap Year\n",
      "2100: Not a Leap Year\n",
      "2024: Leap Year\n"
     ]
    }
   ],
   "source": [
    "#9.\tScenario: A calendar system verifies whether a given year is a leap year based on standard leap year rules.\n",
    "#Write logic to determine whether a given year is a leap year.\n",
    "#1.If year is divisible by 400 and 4 is leap yaer.\n",
    "#2.If else is false like divsible by 100 its false.\n",
    "def is_leap_year(year):\n",
    "    \"\"\"\n",
    "    Determines if a given year is a leap year based on Gregorian calendar rules.\n",
    "    Args:\n",
    "        year (int): The year to check  \n",
    "    Returns:\n",
    "        bool: True if leap year, False otherwise\n",
    "    \"\"\"\n",
    "    if year % 400 == 0:\n",
    "        return True\n",
    "    elif year % 100 == 0:\n",
    "        return False\n",
    "    elif year % 4 == 0:\n",
    "        return True\n",
    "    else:\n",
    "        return False\n",
    "\n",
    "# Test cases in for \n",
    "test_years = [2000, 1900, 2020, 2021, 1600, 1700, 2400, 2100,2024]\n",
    "for year in test_years:\n",
    "    print(f\"{year}: {'Leap Year' if is_leap_year(year) else 'Not a Leap Year'}\")\n"
   ]
  },
  {
   "cell_type": "code",
   "execution_count": 59,
   "id": "c17e1c27-d8ef-4e5e-92c8-065e0e474329",
   "metadata": {},
   "outputs": [
    {
     "name": "stdin",
     "output_type": "stream",
     "text": [
      "Enter your year:  2025\n"
     ]
    },
    {
     "name": "stdout",
     "output_type": "stream",
     "text": [
      "2025 is not a leap year\n"
     ]
    }
   ],
   "source": [
    "year = int(input(\"Enter your year: \"))\n",
    "def is_leap_year(year):\n",
    "    if year % 400 == 0:\n",
    "        print(year, \"is a leap year\")\n",
    "    elif year % 100 == 0:\n",
    "        print(year, \"is not a leap year\")\n",
    "    elif year % 4 == 0:\n",
    "        print(year, \"is a leap year\")\n",
    "    else:\n",
    "        print(year, \"is not a leap year\")\n",
    "is_leap_year(year)"
   ]
  },
  {
   "cell_type": "code",
   "execution_count": 61,
   "id": "20162921-5bfa-4992-ab42-a91067be89e2",
   "metadata": {},
   "outputs": [
    {
     "name": "stdin",
     "output_type": "stream",
     "text": [
      "Enter your year:  2025\n"
     ]
    },
    {
     "name": "stdout",
     "output_type": "stream",
     "text": [
      "2025 is not a leap year\n"
     ]
    }
   ],
   "source": [
    "year = int(input(\"Enter your year: \"))\n",
    "def is_leap_year(year):\n",
    "    print(f\"{year} is {'a leap year' if year % 400 == 0 or (year % 100 != 0 and year % 4 == 0) else 'not a leap year'}\")\n",
    "is_leap_year(year)"
   ]
  },
  {
   "cell_type": "code",
   "execution_count": 75,
   "id": "92452d62-d387-4624-ac25-d8f3ba3c8eec",
   "metadata": {},
   "outputs": [
    {
     "name": "stdout",
     "output_type": "stream",
     "text": [
      "[2, 4, 6, 8, 10]\n"
     ]
    }
   ],
   "source": [
    "#10.\tScenario: A program filters out only even numbers from a given list.\n",
    "# Write logic to extract and return only the even numbers from a list.\n",
    "#1.Create the List of number\n",
    "#2.Create the function for for loop its number divisble by 2.\n",
    "#3.print the filter even numbers and Return only even numbers from the input list.\n",
    "numbers = [1, 2, 3, 4, 5, 6, 7, 8, 9, 10]\n",
    "def filter_evens(numbers):\n",
    "    even_numbers=[]\n",
    "    for num in numbers:\n",
    "        if num % 2 == 0:\n",
    "            even_numbers.append(num)  # Add to evens list\n",
    "    return even_numbers\n",
    "print(filter_evens(numbers))  # Output: [2, 4, 6, 8, 10]"
   ]
  },
  {
   "cell_type": "code",
   "execution_count": 1,
   "id": "27c995fe-a06e-4979-b2bb-16f117594826",
   "metadata": {},
   "outputs": [
    {
     "name": "stdout",
     "output_type": "stream",
     "text": [
      "246810"
     ]
    }
   ],
   "source": [
    "for num in range(1, 11):\n",
    "    if num%2==0:\n",
    "        print(num, end='')"
   ]
  },
  {
   "cell_type": "code",
   "execution_count": null,
   "id": "08503825-5868-40b1-b900-c563b8cf4925",
   "metadata": {},
   "outputs": [],
   "source": []
  }
 ],
 "metadata": {
  "kernelspec": {
   "display_name": "Python [conda env:base] *",
   "language": "python",
   "name": "conda-base-py"
  },
  "language_info": {
   "codemirror_mode": {
    "name": "ipython",
    "version": 3
   },
   "file_extension": ".py",
   "mimetype": "text/x-python",
   "name": "python",
   "nbconvert_exporter": "python",
   "pygments_lexer": "ipython3",
   "version": "3.12.7"
  }
 },
 "nbformat": 4,
 "nbformat_minor": 5
}
