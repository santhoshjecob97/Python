{
 "cells": [
  {
   "cell_type": "code",
   "execution_count": 5,
   "id": "9e3d7454-7448-4903-aeb5-4e5c400acfd4",
   "metadata": {},
   "outputs": [
    {
     "name": "stdin",
     "output_type": "stream",
     "text": [
      "Enter the amount: 15000\n"
     ]
    },
    {
     "name": "stdout",
     "output_type": "stream",
     "text": [
      "The amount is Positive\n"
     ]
    }
   ],
   "source": [
    "#Scenario: You are developing a banking application that categorizes transactions based on the amount entered.\n",
    " #Write logic to determine whether the amount is positive, negative, or zero.\n",
    "#1.Create the Function by transsaction category\n",
    "#2.Give the Input of Amount\n",
    "#3.Creat the if and else condition and categorize  the amount based by <=0,>=0 and zero condtion.\n",
    "#4.Print the statement\n",
    "def categorize_transactions(amount):\n",
    "    if amount>0:\n",
    "        return \"Positive\"\n",
    "    elif amount<0:\n",
    "        return \"Negative\"\n",
    "    else:\n",
    "        return \"Zero\"\n",
    "transaction_amount = float(input(\"Enter the amount:\"))\n",
    "category = categorize_transactions(transaction_amount)\n",
    "print(f\"The amount is {category}\")"
   ]
  },
  {
   "cell_type": "code",
   "execution_count": 1,
   "id": "67bf8611-f921-4c9e-8a6b-230f5a8854ed",
   "metadata": {},
   "outputs": [
    {
     "name": "stdin",
     "output_type": "stream",
     "text": [
      "Enter your numerical passcode:  12345678\n"
     ]
    },
    {
     "name": "stdout",
     "output_type": "stream",
     "text": [
      "The sum of your passcode digits is: 36\n"
     ]
    }
   ],
   "source": [
    "#2.\tScenario: A digital locker requires users to enter a numerical passcode. As part of a security feature, the system checks the sum of the digits of the passcode.\n",
    "#Write logic to compute the sum of the digits of a given number.\n",
    "#1.Define the function\n",
    "#2.handle the negative number\n",
    "#3.Check the passcode sum of digits\n",
    "#4.print the statement\n",
    "def sum_digits(passcode):\n",
    "    total = 0\n",
    "    for digit in str(abs(passcode)):  # Handle negative numbers with abs()\n",
    "        total += int(digit)\n",
    "    return total\n",
    "# Example usage:\n",
    "user_passcode = int(input(\"Enter your numerical passcode: \"))\n",
    "digit_sum = sum_digits(user_passcode)\n",
    "print(f\"The sum of your passcode digits is: {digit_sum}\")"
   ]
  },
  {
   "cell_type": "code",
   "execution_count": 3,
   "id": "9f9167b3-bbad-46fe-8674-acf73c91c463",
   "metadata": {},
   "outputs": [
    {
     "name": "stdout",
     "output_type": "stream",
     "text": [
      "321\n",
      "1\n",
      "5\n"
     ]
    }
   ],
   "source": [
    "#3.\tScenario: A mobile payment app uses a simple checksum validation where reversing a transaction ID helps detect fraud.\n",
    "#  0Write logic to take a number and return its reverse.\n",
    "def reverse_number(num):\n",
    "    \"\"\"Return the reversed digits of a positive integer.\n",
    "    Args:\n",
    "        num (int): A positive transaction ID number  \n",
    "    Returns:\n",
    "        int: The reversed number  \n",
    "    Examples:\n",
    "        >>> reverse_number(12345)\n",
    "        54321\n",
    "        >>> reverse_number(100)\n",
    "        1  # Leading zeros are dropped\n",
    "    \"\"\"\n",
    "    # Convert to string, reverse, then convert back to integer\n",
    "    return int(str(num)[::-1])\n",
    "print(reverse_number(123))   # 321\n",
    "print(reverse_number(1000))  # 1\n",
    "print(reverse_number(5))     # 5 (single digit)\n",
    "#Logic:\n",
    "#1.Convert to String: str(num) turns the number into a string (e.g., 12345 → \"12345\")\n",
    "#2.Reverse Slice: [::-1] reverses the string (\"12345\" → \"54321\")\n",
    "#3.Convert Back: int() converts back to number, automatically dropping leading zeros (\"001\" → 1)"
   ]
  },
  {
   "cell_type": "code",
   "execution_count": 28,
   "id": "dba38b5a-fe5f-44df-a2e7-4f35384d4b76",
   "metadata": {},
   "outputs": [
    {
     "name": "stdout",
     "output_type": "stream",
     "text": [
      "True\n",
      "False\n"
     ]
    }
   ],
   "source": [
    "#4.\tScenario: In a secure login system, certain features are enabled only for users with prime-numbered user IDs.\n",
    "# Write logic to check if a given number is prime.\n",
    "def is_prime(num):\n",
    "    if num < 2:\n",
    "        return False\n",
    "    for i in range(2, num):\n",
    "        if num % i == 0:\n",
    "            return False\n",
    "    return True\n",
    "print(is_prime(7))  # True\n",
    "print(is_prime(8))  # False\n",
    "#1.Check if the number is 0 or 1→ These are never prime (must be >1)\n",
    "#2.Check if the number is 2→ Only even prime number (special case)\n",
    "#3.Check divisibility from 2 up to half the number\n",
    "#4.If no divisions work → PRIME!If any division gives a whole number → NOT PRIME"
   ]
  },
  {
   "cell_type": "code",
   "execution_count": null,
   "id": "49e8cd46-9225-4cc9-b02b-9db93913a598",
   "metadata": {},
   "outputs": [],
   "source": [
    "#5.\tScenario: A scientist is working on permutations and needs to calculate the factorial of numbers frequently.\n",
    "#Write logic to find the factorial of a given number using recursion.\n",
    "\n"
   ]
  }
 ],
 "metadata": {
  "kernelspec": {
   "display_name": "Python [conda env:base] *",
   "language": "python",
   "name": "conda-base-py"
  },
  "language_info": {
   "codemirror_mode": {
    "name": "ipython",
    "version": 3
   },
   "file_extension": ".py",
   "mimetype": "text/x-python",
   "name": "python",
   "nbconvert_exporter": "python",
   "pygments_lexer": "ipython3",
   "version": "3.12.7"
  }
 },
 "nbformat": 4,
 "nbformat_minor": 5
}
