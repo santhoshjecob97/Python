{
 "cells": [
  {
   "cell_type": "code",
   "execution_count": 1,
   "id": "47245593-f6ad-4f4a-bf9c-75241d5563c2",
   "metadata": {},
   "outputs": [
    {
     "name": "stdout",
     "output_type": "stream",
     "text": [
      "Welcome to the assignmnet 1\n"
     ]
    }
   ],
   "source": [
    "print(\"Welcome to the assignmnet 1\")"
   ]
  },
  {
   "cell_type": "code",
   "execution_count": 11,
   "id": "aa4e8f37-3343-4bec-9322-731553051302",
   "metadata": {},
   "outputs": [
    {
     "name": "stdout",
     "output_type": "stream",
     "text": [
      "Num1= 10\n",
      "Num2= 30\n",
      "Add= 40\n"
     ]
    }
   ],
   "source": [
    "num1=10\n",
    "print(\"Num1=\",num1)\n",
    "num2=30\n",
    "print(\"Num2=\",num2)\n",
    "add=num1+num2\n",
    "print(\"Add=\",add)\n"
   ]
  },
  {
   "cell_type": "code",
   "execution_count": 25,
   "id": "f3e6e1e9-3c0b-484d-8a43-23caaa4188fd",
   "metadata": {},
   "outputs": [
    {
     "name": "stdin",
     "output_type": "stream",
     "text": [
      "Enter the BMI Index : 34\n"
     ]
    },
    {
     "name": "stdout",
     "output_type": "stream",
     "text": [
      "Very Over Weight\n"
     ]
    }
   ],
   "source": [
    "age=int(input(\"Enter the BMI Index :\"))\n",
    "if(age>30):\n",
    "    print(\"Very Over Weight\")\n",
    "else:\n",
    "    print(\"Normal Weight\")"
   ]
  },
  {
   "cell_type": "code",
   "execution_count": null,
   "id": "23cdb57d-586b-4865-b126-201590a57c95",
   "metadata": {},
   "outputs": [],
   "source": []
  }
 ],
 "metadata": {
  "kernelspec": {
   "display_name": "Python [conda env:base] *",
   "language": "python",
   "name": "conda-base-py"
  },
  "language_info": {
   "codemirror_mode": {
    "name": "ipython",
    "version": 3
   },
   "file_extension": ".py",
   "mimetype": "text/x-python",
   "name": "python",
   "nbconvert_exporter": "python",
   "pygments_lexer": "ipython3",
   "version": "3.12.7"
  }
 },
 "nbformat": 4,
 "nbformat_minor": 5
}
