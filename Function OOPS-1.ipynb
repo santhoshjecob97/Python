{
 "cells": [
  {
   "cell_type": "code",
   "execution_count": 17,
   "id": "8070bf89-54f3-4a06-a7e7-f43d53c8bfd3",
   "metadata": {},
   "outputs": [],
   "source": [
    "def agecategory():\n",
    "            if(age<18):\n",
    "               print(\"Children\")\n",
    "               cate=\"Children\"\n",
    "            elif(age<35):\n",
    "               print(\"Adult\")\n",
    "               cate=\"Adult\"\n",
    "            elif(age<59):\n",
    "               print(\"Citizen\")\n",
    "               cate=\"Citizen\"\n",
    "            else:\n",
    "               print(\"Senoir Citizen\")\n",
    "               cate=\"Senoir Citizen\"\n",
    "            return cate"
   ]
  },
  {
   "cell_type": "code",
   "execution_count": 29,
   "id": "2f214665-ebe5-4135-84f0-9ff7bf63cfc5",
   "metadata": {},
   "outputs": [
    {
     "name": "stdin",
     "output_type": "stream",
     "text": [
      "Enter the Age: 25\n"
     ]
    },
    {
     "name": "stdout",
     "output_type": "stream",
     "text": [
      "Adult\n"
     ]
    }
   ],
   "source": [
    "age=int(input(\"Enter the Age:\"))\n",
    "agecate=agecategory()"
   ]
  },
  {
   "cell_type": "code",
   "execution_count": 37,
   "id": "7648d29f-b3e5-40c2-8181-f99a2df3b825",
   "metadata": {},
   "outputs": [
    {
     "name": "stdout",
     "output_type": "stream",
     "text": [
      "Adult\n"
     ]
    },
    {
     "data": {
      "text/plain": [
       "'Adult'"
      ]
     },
     "execution_count": 37,
     "metadata": {},
     "output_type": "execute_result"
    }
   ],
   "source": [
    "agecategory()"
   ]
  },
  {
   "cell_type": "code",
   "execution_count": 21,
   "id": "d2363e2e-68ac-42f4-89f4-df20987ef3f4",
   "metadata": {},
   "outputs": [],
   "source": [
    "def agecategoryNOR():\n",
    "            if(age<18):\n",
    "               print(\"Children\")\n",
    "               cate=\"Children\"\n",
    "            elif(age<35):\n",
    "               print(\"Adult\")\n",
    "               cate=\"Adult\"\n",
    "            elif(age<59):\n",
    "               print(\"Citizen\")\n",
    "               cate=\"Citizen\"\n",
    "            else:\n",
    "               print(\"Senoir Citizen\")\n",
    "               cate=\"Senoir Citizen\""
   ]
  },
  {
   "cell_type": "code",
   "execution_count": 23,
   "id": "0519f739-6bde-4f50-bae3-eca4d565a537",
   "metadata": {},
   "outputs": [
    {
     "name": "stdin",
     "output_type": "stream",
     "text": [
      "Enter the Age: 20\n"
     ]
    },
    {
     "name": "stdout",
     "output_type": "stream",
     "text": [
      "Adult\n"
     ]
    }
   ],
   "source": [
    "age=int(input(\"Enter the Age:\"))\n",
    "agecate=agecategoryNOR()"
   ]
  },
  {
   "cell_type": "code",
   "execution_count": 25,
   "id": "1b0f2791-69d3-4bb6-9a49-2ee70c057c04",
   "metadata": {},
   "outputs": [
    {
     "name": "stdout",
     "output_type": "stream",
     "text": [
      "None\n"
     ]
    }
   ],
   "source": [
    "print(agecate)"
   ]
  },
  {
   "cell_type": "code",
   "execution_count": 39,
   "id": "d8c40d9f-5ae4-4e84-b98f-149fed984c45",
   "metadata": {},
   "outputs": [],
   "source": [
    "def oddeven():\n",
    "    num=int(input(\"Enter the number:\"))\n",
    "    if(num%2==1):\n",
    "        print(\"odd number\")\n",
    "        message=\"odd number\"\n",
    "    else:\n",
    "        print(\"Even Number\")\n",
    "        message=\"Even Number\"\n",
    "    return message"
   ]
  },
  {
   "cell_type": "code",
   "execution_count": 41,
   "id": "c3fa82f3-588b-45a7-9ce9-3a9e55a73190",
   "metadata": {},
   "outputs": [
    {
     "name": "stdin",
     "output_type": "stream",
     "text": [
      "Enter the number: 5\n"
     ]
    },
    {
     "name": "stdout",
     "output_type": "stream",
     "text": [
      "odd number\n"
     ]
    }
   ],
   "source": [
    "message=oddeven()"
   ]
  },
  {
   "cell_type": "code",
   "execution_count": 43,
   "id": "e844a06a-0afb-45ce-a524-a1352734077b",
   "metadata": {},
   "outputs": [
    {
     "name": "stdout",
     "output_type": "stream",
     "text": [
      "that number is True - Odd\n"
     ]
    }
   ],
   "source": [
    "if(message==\"odd number\"):\n",
    "    print(\"that number is True - Odd\")\n",
    "else:\n",
    "    print(\"that number is True - Even\")"
   ]
  },
  {
   "cell_type": "code",
   "execution_count": 45,
   "id": "afab1cd7-d021-4eff-be0d-3fe1aa17a09c",
   "metadata": {},
   "outputs": [],
   "source": [
    "#non - parameterised condition\n",
    "def BMI():\n",
    "    BMI=int(input(\"Enter the BMI Index:\"))\n",
    "    if(BMI<18.5):\n",
    "        print(\"Underweight\")\n",
    "        msg=\"Underweight\"\n",
    "    elif(BMI<24.9):\n",
    "        print(\"Normal\")\n",
    "        msg=\"Normal\"\n",
    "    elif(BMI<29.9):\n",
    "        print(\"Overweight\")\n",
    "        msg=\"Overweight\"\n",
    "    else:\n",
    "        print(\"Very Overweight\")\n",
    "        msg=\"Very Overweight\"\n",
    "        return msg"
   ]
  },
  {
   "cell_type": "code",
   "execution_count": 57,
   "id": "3adadef5-a845-4de5-a0ea-b32e5e4e101c",
   "metadata": {},
   "outputs": [
    {
     "name": "stdin",
     "output_type": "stream",
     "text": [
      "Enter the BMI Index: 34\n"
     ]
    },
    {
     "name": "stdout",
     "output_type": "stream",
     "text": [
      "Very Overweight\n"
     ]
    }
   ],
   "source": [
    "bmi=BMI()"
   ]
  },
  {
   "cell_type": "code",
   "execution_count": 71,
   "id": "d6a1cbcb-9059-4fa8-9a96-8c01543e1c5f",
   "metadata": {},
   "outputs": [],
   "source": [
    "#parameterised condition\n",
    "def addition(num1,num2):\n",
    "    add=num1+num2\n",
    "    return add"
   ]
  },
  {
   "cell_type": "code",
   "execution_count": 73,
   "id": "d384164d-051c-432c-8251-c4b06d893389",
   "metadata": {},
   "outputs": [
    {
     "data": {
      "text/plain": [
       "21"
      ]
     },
     "execution_count": 73,
     "metadata": {},
     "output_type": "execute_result"
    }
   ],
   "source": [
    "addition(10,11)"
   ]
  },
  {
   "cell_type": "code",
   "execution_count": null,
   "id": "0ae926e8-574c-40ac-bf2c-ef1616ee2cbf",
   "metadata": {},
   "outputs": [],
   "source": []
  }
 ],
 "metadata": {
  "kernelspec": {
   "display_name": "Python [conda env:base] *",
   "language": "python",
   "name": "conda-base-py"
  },
  "language_info": {
   "codemirror_mode": {
    "name": "ipython",
    "version": 3
   },
   "file_extension": ".py",
   "mimetype": "text/x-python",
   "name": "python",
   "nbconvert_exporter": "python",
   "pygments_lexer": "ipython3",
   "version": "3.12.7"
  }
 },
 "nbformat": 4,
 "nbformat_minor": 5
}
