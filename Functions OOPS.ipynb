{
 "cells": [
  {
   "cell_type": "code",
   "execution_count": 5,
   "id": "12696df6-8c62-4147-bf68-eea82325f927",
   "metadata": {},
   "outputs": [
    {
     "name": "stdin",
     "output_type": "stream",
     "text": [
      "Enter the Age: 18\n"
     ]
    },
    {
     "name": "stdout",
     "output_type": "stream",
     "text": [
      "Adult\n"
     ]
    }
   ],
   "source": [
    "#if\n",
    "age=int(input(\"Enter the Age:\"))\n",
    "if(age==18):\n",
    "    print(\"Adult\")\n",
    "    "
   ]
  },
  {
   "cell_type": "code",
   "execution_count": 3,
   "id": "5967a8c4-8364-4133-bf7b-90f8d7f6e2bc",
   "metadata": {},
   "outputs": [
    {
     "name": "stdin",
     "output_type": "stream",
     "text": [
      "Enter the Age: 15\n"
     ]
    },
    {
     "name": "stdout",
     "output_type": "stream",
     "text": [
      "Children\n"
     ]
    }
   ],
   "source": [
    "#if else\n",
    "age=int(input(\"Enter the Age:\"))\n",
    "if(age<18):\n",
    "    print(\"Children\")\n",
    "else:\n",
    "    print(\"Adult\")"
   ]
  },
  {
   "cell_type": "code",
   "execution_count": 1,
   "id": "da788d40-b0f5-4c6d-8149-761df541c891",
   "metadata": {},
   "outputs": [
    {
     "name": "stdin",
     "output_type": "stream",
     "text": [
      "Enter the Age: 85\n"
     ]
    },
    {
     "name": "stdout",
     "output_type": "stream",
     "text": [
      "Senoir Citizen\n"
     ]
    }
   ],
   "source": [
    "#if elif\n",
    "age=int(input(\"Enter the Age:\"))\n",
    "if(age<18):\n",
    "    print(\"Children\")\n",
    "elif(age<35):\n",
    "    print(\"Adult\")\n",
    "elif(age<59):\n",
    "    print(\"Citizen\")\n",
    "else:\n",
    "    print(\"Senoir Citizen\")"
   ]
  },
  {
   "cell_type": "code",
   "execution_count": 23,
   "id": "c1783173-1ab6-40c0-93db-692591616216",
   "metadata": {},
   "outputs": [
    {
     "name": "stdout",
     "output_type": "stream",
     "text": [
      "Senoir Citizen\n",
      "Citizen\n",
      "Adult\n",
      "Citizen\n",
      "Senoir Citizen\n"
     ]
    }
   ],
   "source": [
    "#for temp in lists\n",
    "lists=[85,45,26,54,75]\n",
    "for age in lists:\n",
    "    if(age<18):\n",
    "       print(\"Children\")\n",
    "    elif(age<35):\n",
    "       print(\"Adult\")\n",
    "    elif(age<59):\n",
    "       print(\"Citizen\")\n",
    "    else:\n",
    "       print(\"Senoir Citizen\")\n",
    "    "
   ]
  },
  {
   "cell_type": "code",
   "execution_count": 9,
   "id": "cf5c6ab3-32c3-44e6-95cd-979db8313630",
   "metadata": {},
   "outputs": [
    {
     "name": "stdin",
     "output_type": "stream",
     "text": [
      "Enter the number: 5\n"
     ]
    },
    {
     "name": "stdout",
     "output_type": "stream",
     "text": [
      "odd number\n"
     ]
    }
   ],
   "source": [
    "num=int(input(\"Enter the number:\"))\n",
    "if(num%2==1):\n",
    "    print(\"odd number\")\n",
    "else:\n",
    "    print(\"Even Number\")\n"
   ]
  },
  {
   "cell_type": "code",
   "execution_count": 11,
   "id": "fc1d9f93-2dd1-4ef1-98f7-c589a336fabf",
   "metadata": {},
   "outputs": [
    {
     "name": "stdin",
     "output_type": "stream",
     "text": [
      "Enter the number: 9\n"
     ]
    },
    {
     "name": "stdout",
     "output_type": "stream",
     "text": [
      "Odd Number\n"
     ]
    }
   ],
   "source": [
    "num=int(input(\"Enter the number:\"))\n",
    "if(num%2==0):\n",
    "    print(\"Even Number\")\n",
    "else:\n",
    "    print(\"Odd Number\")\n"
   ]
  },
  {
   "cell_type": "code",
   "execution_count": 13,
   "id": "2a15271f-7ad0-44d3-a454-b326ea829eb2",
   "metadata": {},
   "outputs": [
    {
     "name": "stdout",
     "output_type": "stream",
     "text": [
      "range(0, 10)\n"
     ]
    }
   ],
   "source": [
    "print(range(0,10))"
   ]
  },
  {
   "cell_type": "code",
   "execution_count": 15,
   "id": "8588dfb6-093c-4f86-97ff-04f3503ff938",
   "metadata": {},
   "outputs": [
    {
     "name": "stdout",
     "output_type": "stream",
     "text": [
      "0\n",
      "1\n",
      "2\n",
      "3\n",
      "4\n",
      "5\n",
      "6\n",
      "7\n",
      "8\n",
      "9\n"
     ]
    }
   ],
   "source": [
    "for num in range(0,10):\n",
    "    print(num)"
   ]
  },
  {
   "cell_type": "code",
   "execution_count": 17,
   "id": "f8dcea40-b61d-4f91-a558-569ba3b1ae70",
   "metadata": {},
   "outputs": [
    {
     "name": "stdout",
     "output_type": "stream",
     "text": [
      "100\n",
      "102\n",
      "104\n",
      "106\n",
      "108\n"
     ]
    }
   ],
   "source": [
    "for num in range(100,110,2):\n",
    "    print(num)"
   ]
  },
  {
   "cell_type": "code",
   "execution_count": 13,
   "id": "d424e1c3-e939-4615-bd87-330f693e5ed6",
   "metadata": {},
   "outputs": [],
   "source": [
    "lists=[85,45,26,54,75]"
   ]
  },
  {
   "cell_type": "code",
   "execution_count": 9,
   "id": "238e71a3-3848-4b87-9166-b54aa480f98c",
   "metadata": {},
   "outputs": [],
   "source": [
    "def agecategory():\n",
    "    for age in lists:\n",
    "        if(age<18):\n",
    "           print(\"Children\")\n",
    "        elif(age<35):\n",
    "           print(\"Adult\")\n",
    "        elif(age<59):\n",
    "           print(\"Citizen\")\n",
    "        else:\n",
    "           print(\"Senoir Citizen\")\n",
    "    "
   ]
  },
  {
   "cell_type": "code",
   "execution_count": 17,
   "id": "a864e357-b3fd-463d-a646-1e47681ad216",
   "metadata": {},
   "outputs": [
    {
     "name": "stdout",
     "output_type": "stream",
     "text": [
      "Senoir Citizen\n",
      "Citizen\n",
      "Adult\n",
      "Citizen\n",
      "Senoir Citizen\n"
     ]
    }
   ],
   "source": [
    "agecategory()"
   ]
  },
  {
   "cell_type": "code",
   "execution_count": null,
   "id": "398ff922-4be3-43b7-833a-bdc9b8959006",
   "metadata": {},
   "outputs": [],
   "source": []
  },
  {
   "cell_type": "code",
   "execution_count": null,
   "id": "b1c113c7-3f5a-4aad-9218-ba78ac80af63",
   "metadata": {},
   "outputs": [],
   "source": []
  }
 ],
 "metadata": {
  "kernelspec": {
   "display_name": "Python [conda env:base] *",
   "language": "python",
   "name": "conda-base-py"
  },
  "language_info": {
   "codemirror_mode": {
    "name": "ipython",
    "version": 3
   },
   "file_extension": ".py",
   "mimetype": "text/x-python",
   "name": "python",
   "nbconvert_exporter": "python",
   "pygments_lexer": "ipython3",
   "version": "3.12.7"
  }
 },
 "nbformat": 4,
 "nbformat_minor": 5
}
