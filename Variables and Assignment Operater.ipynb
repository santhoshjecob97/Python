{
 "cells": [
  {
   "cell_type": "code",
   "execution_count": 1,
   "id": "083a5a39-12b6-4c6c-b054-fe4075c3c7a9",
   "metadata": {},
   "outputs": [
    {
     "name": "stdout",
     "output_type": "stream",
     "text": [
      "add\n",
      "40\n"
     ]
    }
   ],
   "source": [
    "num1=10\n",
    "num2=30\n",
    "add=num1+num2\n",
    "print(\"add\")\n",
    "print(add)"
   ]
  },
  {
   "cell_type": "code",
   "execution_count": 26,
   "id": "61be7f73-d1a6-4910-a5d7-21a089bde738",
   "metadata": {},
   "outputs": [
    {
     "name": "stdout",
     "output_type": "stream",
     "text": [
      "the addition of two number\n",
      "the number1: 10\n",
      "the number2: 20\n",
      "the Answer: 30\n"
     ]
    }
   ],
   "source": [
    "print(\"the addition of two number\")\n",
    "num1=10\n",
    "print(\"the number1:\",num1)\n",
    "num2=20\n",
    "print(\"the number2:\",num2)\n",
    "print(\"the Answer:\",num1+num2)"
   ]
  },
  {
   "cell_type": "code",
   "execution_count": 30,
   "id": "cb771081-0af7-4249-85ed-b477386561a4",
   "metadata": {},
   "outputs": [
    {
     "name": "stdin",
     "output_type": "stream",
     "text": [
      "Enter the num1: 100\n"
     ]
    }
   ],
   "source": [
    "num1=int(input(\"Enter the num1:\"))"
   ]
  },
  {
   "cell_type": "code",
   "execution_count": 32,
   "id": "fcc6df45-8cc7-4884-b92c-d3618261ed36",
   "metadata": {},
   "outputs": [
    {
     "name": "stdin",
     "output_type": "stream",
     "text": [
      "Enter the num2: 100\n"
     ]
    }
   ],
   "source": [
    "num2=int(input(\"Enter the num2:\"))"
   ]
  },
  {
   "cell_type": "code",
   "execution_count": 36,
   "id": "869d310d-8268-405b-8489-77f81f34c97f",
   "metadata": {},
   "outputs": [
    {
     "name": "stdout",
     "output_type": "stream",
     "text": [
      "200\n"
     ]
    }
   ],
   "source": [
    "add=num1+num2\n",
    "print(add)"
   ]
  },
  {
   "cell_type": "code",
   "execution_count": null,
   "id": "36440c38-38be-4af1-9577-869214c3b1ca",
   "metadata": {},
   "outputs": [],
   "source": []
  }
 ],
 "metadata": {
  "kernelspec": {
   "display_name": "Python [conda env:base] *",
   "language": "python",
   "name": "conda-base-py"
  },
  "language_info": {
   "codemirror_mode": {
    "name": "ipython",
    "version": 3
   },
   "file_extension": ".py",
   "mimetype": "text/x-python",
   "name": "python",
   "nbconvert_exporter": "python",
   "pygments_lexer": "ipython3",
   "version": "3.12.7"
  }
 },
 "nbformat": 4,
 "nbformat_minor": 5
}
