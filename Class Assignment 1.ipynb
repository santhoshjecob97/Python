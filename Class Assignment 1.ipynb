{
 "cells": [
  {
   "cell_type": "code",
   "execution_count": 10,
   "id": "89d59713-aa99-48d1-a163-4bc6d57f9f82",
   "metadata": {},
   "outputs": [],
   "source": [
    "def Subfields():\n",
    "    print(\"Sub-fields in AI are:\")\n",
    "    list=['Machine Learning', 'Neural Networks', 'Vision', 'Robotics', 'Speech Processing', 'Natural Language Processing']\n",
    "    for temp in list:\n",
    "        print (temp)"
   ]
  },
  {
   "cell_type": "code",
   "execution_count": 12,
   "id": "fb4f5460-f6dc-4838-b906-0d3d1846827d",
   "metadata": {},
   "outputs": [
    {
     "name": "stdout",
     "output_type": "stream",
     "text": [
      "Sub-fields in AI are:\n",
      "Machine Learning\n",
      "Neural Networks\n",
      "Vision\n",
      "Robotics\n",
      "Speech Processing\n",
      "Natural Language Processing\n"
     ]
    }
   ],
   "source": [
    "Subfields()"
   ]
  },
  {
   "cell_type": "code",
   "execution_count": 22,
   "id": "766a3750-2b74-498b-ac19-748170e4fc72",
   "metadata": {},
   "outputs": [],
   "source": [
    "class SubfieldsInAI():\n",
    "    def Subfields():\n",
    "        print(\"Sub-fields in AI are:\")\n",
    "        List=['Machine Learning', 'Neural Networks', 'Vision', 'Robotics', 'Speech Processing', 'Natural Language Processing']\n",
    "        for temp in List:\n",
    "            print(temp)"
   ]
  },
  {
   "cell_type": "code",
   "execution_count": 28,
   "id": "2bacac59-ff20-49b8-ba5f-5d2c7c92b07e",
   "metadata": {},
   "outputs": [
    {
     "name": "stdout",
     "output_type": "stream",
     "text": [
      "Sub-fields in AI are:\n",
      "Machine Learning\n",
      "Neural Networks\n",
      "Vision\n",
      "Robotics\n",
      "Speech Processing\n",
      "Natural Language Processing\n"
     ]
    }
   ],
   "source": [
    "SubfieldsInAI.Subfields()"
   ]
  },
  {
   "cell_type": "code",
   "execution_count": 30,
   "id": "14f6dd1c-e8fc-4463-982d-925b52c097a1",
   "metadata": {},
   "outputs": [],
   "source": [
    "def oddeven():\n",
    "    num=int(input(\"Enter the number:\"))\n",
    "    if(num%2==1):\n",
    "        print(num,\"is odd number\")\n",
    "    else:\n",
    "        print(num,\"is Even Number\")"
   ]
  },
  {
   "cell_type": "code",
   "execution_count": 32,
   "id": "e7171c07-3cde-4e2b-b696-5d7bd82f0449",
   "metadata": {},
   "outputs": [
    {
     "name": "stdin",
     "output_type": "stream",
     "text": [
      "Enter the number: 52452\n"
     ]
    },
    {
     "name": "stdout",
     "output_type": "stream",
     "text": [
      "52452 is Even Number\n"
     ]
    }
   ],
   "source": [
    "oddeven()"
   ]
  },
  {
   "cell_type": "code",
   "execution_count": 36,
   "id": "008a8aa1-2945-45a3-80d0-f87a8308566d",
   "metadata": {},
   "outputs": [],
   "source": [
    "class oddeven():\n",
    "    def oddeven():\n",
    "        num=int(input(\"Enter the number:\"))\n",
    "        if(num%2==1):\n",
    "            print(num,\"is odd number\")\n",
    "        else:\n",
    "            print(num,\"is Even Number\")\n",
    "    "
   ]
  },
  {
   "cell_type": "code",
   "execution_count": 38,
   "id": "11266c25-e541-4663-8b61-b842643afa77",
   "metadata": {},
   "outputs": [
    {
     "name": "stdin",
     "output_type": "stream",
     "text": [
      "Enter the number: 52452\n"
     ]
    },
    {
     "name": "stdout",
     "output_type": "stream",
     "text": [
      "52452 is Even Number\n"
     ]
    }
   ],
   "source": [
    "oddeven.oddeven()"
   ]
  },
  {
   "cell_type": "code",
   "execution_count": 23,
   "id": "2ab763b6-b190-48e3-9c4e-bbab6b0a63d4",
   "metadata": {},
   "outputs": [],
   "source": [
    "def eligible():\n",
    "    gender = input(\"Your Gender is: \")\n",
    "    age = int(input(\"Your Age is: \"))\n",
    "    \n",
    "    if gender == 'male':\n",
    "        if age >= 21:\n",
    "            print(\"eligible\")\n",
    "        else:\n",
    "            print(\"not eligible\")\n",
    "    elif gender == 'female':\n",
    "        if age >= 18:\n",
    "            print(\"eligible\")\n",
    "        else:\n",
    "            print(\"not eligible\")\n",
    "    else:\n",
    "        print('invalid input data')"
   ]
  },
  {
   "cell_type": "code",
   "execution_count": 25,
   "id": "fa3df5eb-e68e-432f-83bd-8a7bccb5a14a",
   "metadata": {},
   "outputs": [
    {
     "name": "stdin",
     "output_type": "stream",
     "text": [
      "Your Gender is:  male\n",
      "Your Age is:  20\n"
     ]
    },
    {
     "name": "stdout",
     "output_type": "stream",
     "text": [
      "not eligible\n"
     ]
    }
   ],
   "source": [
    "eligible()"
   ]
  },
  {
   "cell_type": "code",
   "execution_count": 27,
   "id": "3efedf03-1342-41ed-85e4-7026ba7292b9",
   "metadata": {},
   "outputs": [],
   "source": [
    " class ElegiblityForMarriage():\n",
    "     def eligible():\n",
    "        gender = input(\"Your Gender is: \")\n",
    "        age = int(input(\"Your Age is: \"))\n",
    "        \n",
    "        if gender == 'male':\n",
    "            if age >= 21:\n",
    "                print(\"eligible\")\n",
    "            else:\n",
    "                print(\"not eligible\")\n",
    "        elif gender == 'female':\n",
    "            if age >= 18:\n",
    "                print(\"eligible\")\n",
    "            else:\n",
    "                print(\"not eligible\")\n",
    "        else:\n",
    "            print('invalid input data')"
   ]
  },
  {
   "cell_type": "code",
   "execution_count": 29,
   "id": "72023575-cf15-4a35-a414-05b4369c2f11",
   "metadata": {},
   "outputs": [
    {
     "name": "stdin",
     "output_type": "stream",
     "text": [
      "Your Gender is:  male\n",
      "Your Age is:  20\n"
     ]
    },
    {
     "name": "stdout",
     "output_type": "stream",
     "text": [
      "not eligible\n"
     ]
    }
   ],
   "source": [
    "ElegiblityForMarriage.eligible()"
   ]
  },
  {
   "cell_type": "code",
   "execution_count": 31,
   "id": "7b692bb1-1de5-441c-b923-e36c0688ce99",
   "metadata": {},
   "outputs": [],
   "source": [
    "def percentage():\n",
    "        s1 = int(input(\"Subject1 = \"))\n",
    "        s2 = int(input(\"Subject2 = \"))\n",
    "        s3 = int(input(\"Subject3 = \"))\n",
    "        s4 = int(input(\"Subject4 = \"))\n",
    "        s5 = int(input(\"Subject5 = \"))\n",
    "        Total = s1 + s2 + s3 + s4 + s5\n",
    "        print(\"Total : \", Total)\n",
    "        Percent = (Total / 500) * 100\n",
    "        print(\"Percentage :\",Percent)"
   ]
  },
  {
   "cell_type": "code",
   "execution_count": 33,
   "id": "0088f046-d513-480a-be00-13b6286cf095",
   "metadata": {},
   "outputs": [
    {
     "name": "stdin",
     "output_type": "stream",
     "text": [
      "Subject1 =  98\n",
      "Subject2 =  87\n",
      "Subject3 =  95\n",
      "Subject4 =  95\n",
      "Subject5 =  93\n"
     ]
    },
    {
     "name": "stdout",
     "output_type": "stream",
     "text": [
      "Total :  468\n",
      "Percentage : 93.60000000000001\n"
     ]
    }
   ],
   "source": [
    "percentage()"
   ]
  },
  {
   "cell_type": "code",
   "execution_count": 37,
   "id": "dec7b4c6-cb38-4c44-ace3-f9fe715cadf9",
   "metadata": {},
   "outputs": [],
   "source": [
    "class percentage():\n",
    "    def percentage():\n",
    "        s1 = int(input(\"Subject1 = \"))\n",
    "        s2 = int(input(\"Subject2 = \"))\n",
    "        s3 = int(input(\"Subject3 = \"))\n",
    "        s4 = int(input(\"Subject4 = \"))\n",
    "        s5 = int(input(\"Subject5 = \"))\n",
    "        Total = s1 + s2 + s3 + s4 + s5\n",
    "        print(\"Total : \", Total)\n",
    "        Percent = (Total / 500) * 100\n",
    "        print(\"Percentage :\",Percent)"
   ]
  },
  {
   "cell_type": "code",
   "execution_count": 41,
   "id": "60dffc4c-e38e-4404-ae64-2463f50b11fd",
   "metadata": {},
   "outputs": [
    {
     "name": "stdin",
     "output_type": "stream",
     "text": [
      "Subject1 =  98\n",
      "Subject2 =  87\n",
      "Subject3 =  95\n",
      "Subject4 =  95\n",
      "Subject5 =  93\n"
     ]
    },
    {
     "name": "stdout",
     "output_type": "stream",
     "text": [
      "Total :  468\n",
      "Percentage : 93.60000000000001\n"
     ]
    }
   ],
   "source": [
    "percentage.percentage()"
   ]
  },
  {
   "cell_type": "code",
   "execution_count": 43,
   "id": "7bcbdac7-9966-47a3-ac4a-3f4b07e1f08f",
   "metadata": {},
   "outputs": [],
   "source": [
    "def triangle():\n",
    "     Height=int(input(\"Height:\"))\n",
    "     breath=int(input(\"Breath:\"))\n",
    "     print(\"Area formula: (Height*Breath)/2\")\n",
    "     print(\"Area of Triangle: \",(Height*breath)/2)\n",
    "     Height1=int(input(\"Height1:\"))\n",
    "     Height2=int(input(\"Height2:\"))\n",
    "     breath=int(input(\"Breath:\"))\n",
    "     print(\"Perimeter formula: Height1+Height2+Breath\")\n",
    "     print(\"Perimeter of Triangle: \",Height1+Height2+breath)"
   ]
  },
  {
   "cell_type": "code",
   "execution_count": 45,
   "id": "03372d02-bde6-4a69-bd4d-3bfec363a9b0",
   "metadata": {},
   "outputs": [
    {
     "name": "stdin",
     "output_type": "stream",
     "text": [
      "Height: 32\n",
      "Breath: 34\n"
     ]
    },
    {
     "name": "stdout",
     "output_type": "stream",
     "text": [
      "Area formula: (Height*Breath)/2\n",
      "Area of Triangle:  544.0\n"
     ]
    },
    {
     "name": "stdin",
     "output_type": "stream",
     "text": [
      "Height1: 2\n",
      "Height2: 4\n",
      "Breath: 4\n"
     ]
    },
    {
     "name": "stdout",
     "output_type": "stream",
     "text": [
      "Perimeter formula: Height1+Height2+Breath\n",
      "Perimeter of Triangle:  10\n"
     ]
    }
   ],
   "source": [
    "triangle()"
   ]
  },
  {
   "cell_type": "code",
   "execution_count": 47,
   "id": "a39d7971-50b0-4642-8f1e-cfbed2e4cf86",
   "metadata": {},
   "outputs": [],
   "source": [
    "class triangle():\n",
    "    def triangle():\n",
    "     Height=int(input(\"Height:\"))\n",
    "     breath=int(input(\"Breath:\"))\n",
    "     print(\"Area formula: (Height*Breath)/2\")\n",
    "     print(\"Area of Triangle: \",(Height*breath)/2)\n",
    "     Height1=int(input(\"Height1:\"))\n",
    "     Height2=int(input(\"Height2:\"))\n",
    "     breath=int(input(\"Breath:\"))\n",
    "     print(\"Perimeter formula: Height1+Height2+Breath\")\n",
    "     print(\"Perimeter of Triangle: \",Height1+Height2+breath)"
   ]
  },
  {
   "cell_type": "code",
   "execution_count": 49,
   "id": "70309bbc-585a-459e-9826-f4812e53a274",
   "metadata": {},
   "outputs": [
    {
     "name": "stdin",
     "output_type": "stream",
     "text": [
      "Height: 32\n",
      "Breath: 34\n"
     ]
    },
    {
     "name": "stdout",
     "output_type": "stream",
     "text": [
      "Area formula: (Height*Breath)/2\n",
      "Area of Triangle:  544.0\n"
     ]
    },
    {
     "name": "stdin",
     "output_type": "stream",
     "text": [
      "Height1: 2\n",
      "Height2: 4\n",
      "Breath: 4\n"
     ]
    },
    {
     "name": "stdout",
     "output_type": "stream",
     "text": [
      "Perimeter formula: Height1+Height2+Breath\n",
      "Perimeter of Triangle:  10\n"
     ]
    }
   ],
   "source": [
    "triangle.triangle()"
   ]
  },
  {
   "cell_type": "code",
   "execution_count": null,
   "id": "a71afc43-34cd-494d-92e9-def60944522a",
   "metadata": {},
   "outputs": [],
   "source": []
  }
 ],
 "metadata": {
  "kernelspec": {
   "display_name": "Python [conda env:base] *",
   "language": "python",
   "name": "conda-base-py"
  },
  "language_info": {
   "codemirror_mode": {
    "name": "ipython",
    "version": 3
   },
   "file_extension": ".py",
   "mimetype": "text/x-python",
   "name": "python",
   "nbconvert_exporter": "python",
   "pygments_lexer": "ipython3",
   "version": "3.12.7"
  }
 },
 "nbformat": 4,
 "nbformat_minor": 5
}
