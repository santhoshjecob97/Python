{
 "cells": [
  {
   "cell_type": "code",
   "execution_count": 19,
   "id": "3c66d9a3-4116-4eea-9057-35c708894186",
   "metadata": {},
   "outputs": [
    {
     "name": "stdin",
     "output_type": "stream",
     "text": [
      "value:  10\n"
     ]
    },
    {
     "name": "stdout",
     "output_type": "stream",
     "text": [
      "correct\n"
     ]
    }
   ],
   "source": [
    "i = int(input(\"value: \"))\n",
    "if (i == 10):\n",
    "    print(\"correct\")\n",
    "else:\n",
    "    print(\"wrong\")"
   ]
  },
  {
   "cell_type": "code",
   "execution_count": 33,
   "id": "3a06186a-f3a3-4cfb-9f38-617aa9e01918",
   "metadata": {},
   "outputs": [
    {
     "name": "stdin",
     "output_type": "stream",
     "text": [
      "Enter the password:  Hope@123\n"
     ]
    },
    {
     "name": "stdout",
     "output_type": "stream",
     "text": [
      "Your password is wrong, check your password\n"
     ]
    }
   ],
   "source": [
    "password = input(\"Enter the password: \") \n",
    "if(password == \"HOPE@123\" ): \n",
    "    print(\"Your password is correct\")\n",
    "else: \n",
    "    print(\"Your password is wrong, check your password\")"
   ]
  },
  {
   "cell_type": "code",
   "execution_count": 37,
   "id": "47988302-fe4c-4de8-8f7c-d0e69e3648e8",
   "metadata": {},
   "outputs": [
    {
     "name": "stdin",
     "output_type": "stream",
     "text": [
      "age:  20\n"
     ]
    },
    {
     "name": "stdout",
     "output_type": "stream",
     "text": [
      "Adult\n"
     ]
    }
   ],
   "source": [
    "num = int(input(\"age: \")) \n",
    "if (num <= 18):\n",
    "    print(\"Children\") \n",
    "elif (num <= 35):\n",
    "    print(\"Adult\") \n",
    "elif (num <= 60):\n",
    "    print(\"Citizen\") \n",
    "else:\n",
    "    print(\"senior citizen\")\n"
   ]
  },
  {
   "cell_type": "code",
   "execution_count": 39,
   "id": "e073a1e0-506f-4977-b46e-c8ddde254805",
   "metadata": {},
   "outputs": [
    {
     "name": "stdin",
     "output_type": "stream",
     "text": [
      "Enter any number: 1\n"
     ]
    },
    {
     "name": "stdout",
     "output_type": "stream",
     "text": [
      "Number is positive\n"
     ]
    }
   ],
   "source": [
    "n = int(input(\"Enter any number:\")) \n",
    "if n>0: \n",
    "    print(\"Number is positive\") \n",
    "elif n<0: \n",
    "    print(\"Number is negative\") \n",
    "else: \n",
    "    print(\"Zero\")"
   ]
  },
  {
   "cell_type": "code",
   "execution_count": null,
   "id": "892a0448-5f89-4a85-87b3-5c3d53ba0e45",
   "metadata": {},
   "outputs": [],
   "source": []
  }
 ],
 "metadata": {
  "kernelspec": {
   "display_name": "Python [conda env:base] *",
   "language": "python",
   "name": "conda-base-py"
  },
  "language_info": {
   "codemirror_mode": {
    "name": "ipython",
    "version": 3
   },
   "file_extension": ".py",
   "mimetype": "text/x-python",
   "name": "python",
   "nbconvert_exporter": "python",
   "pygments_lexer": "ipython3",
   "version": "3.12.7"
  }
 },
 "nbformat": 4,
 "nbformat_minor": 5
}
